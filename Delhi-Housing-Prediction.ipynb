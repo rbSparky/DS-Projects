{
  "metadata": {
    "kernelspec": {
      "language": "python",
      "display_name": "Python 3",
      "name": "python3"
    },
    "language_info": {
      "name": "python",
      "version": "3.7.10",
      "mimetype": "text/x-python",
      "codemirror_mode": {
        "name": "ipython",
        "version": 3
      },
      "pygments_lexer": "ipython3",
      "nbconvert_exporter": "python",
      "file_extension": ".py"
    }
  },
  "nbformat_minor": 4,
  "nbformat": 4,
  "cells": [{
    "cell_type": "code",
    "source": "# My Jupyter notebook with outputs can be found here: https://www.kaggle.com/pointerdev/house-price-prediction\n# It is defined by the kaggle/python Docker image: https://github.com/kaggle/docker-python\n# For example, here's several helpful packages to load\n\nimport numpy as np # linear algebra\nimport pandas as pd # data processing, CSV file I/O (e.g. pd.read_csv)\n\n# Input data files are available in the read-only \"../input/\" directory\n# For example, running this (by clicking run or pressing Shift+Enter) will list all files under the input directory\n\nimport os\nfor dirname, _, filenames in os.walk('/kaggle/input'):\n    for filename in filenames:\n        print(os.path.join(dirname, filename))\n\n# You can write up to 20GB to the current directory (/kaggle/working/) that gets preserved as output when you create a version using \"Save & Run All\" \n# You can also write temporary files to /kaggle/temp/, but they won't be saved outside of the current session",
    "metadata": {
      "_uuid": "8f2839f25d086af736a60e9eeb907d3b93b6e0e5",
      "_cell_guid": "b1076dfc-b9ad-4769-8c92-a6c4dae69d19",
      "execution": {
        "iopub.status.busy": "2021-11-23T10:21:05.742664Z",
        "iopub.execute_input": "2021-11-23T10:21:05.743481Z",
        "iopub.status.idle": "2021-11-23T10:21:05.792196Z",
        "shell.execute_reply.started": "2021-11-23T10:21:05.743310Z",
        "shell.execute_reply": "2021-11-23T10:21:05.790756Z"
      },
      "trusted": true
    },
    "execution_count": 1,
    "outputs": []
  }, {
    "cell_type": "code",
    "source": "dat = pd.read_csv('/kaggle/input/delhi-house-price-prediction/MagicBricks.csv')",
    "metadata": {
      "execution": {
        "iopub.status.busy": "2021-11-23T10:21:05.794483Z",
        "iopub.execute_input": "2021-11-23T10:21:05.794785Z",
        "iopub.status.idle": "2021-11-23T10:21:05.822886Z",
        "shell.execute_reply.started": "2021-11-23T10:21:05.794750Z",
        "shell.execute_reply": "2021-11-23T10:21:05.822055Z"
      },
      "trusted": true
    },
    "execution_count": 2,
    "outputs": []
  }, {
    "cell_type": "code",
    "source": "dat.head()",
    "metadata": {
      "execution": {
        "iopub.status.busy": "2021-11-23T10:21:05.824082Z",
        "iopub.execute_input": "2021-11-23T10:21:05.824775Z",
        "iopub.status.idle": "2021-11-23T10:21:05.855836Z",
        "shell.execute_reply.started": "2021-11-23T10:21:05.824737Z",
        "shell.execute_reply": "2021-11-23T10:21:05.855046Z"
      },
      "trusted": true
    },
    "execution_count": 3,
    "outputs": []
  }, {
    "cell_type": "code",
    "source": "dat.info()",
    "metadata": {
      "execution": {
        "iopub.status.busy": "2021-11-23T10:21:05.857242Z",
        "iopub.execute_input": "2021-11-23T10:21:05.857790Z",
        "iopub.status.idle": "2021-11-23T10:21:05.886296Z",
        "shell.execute_reply.started": "2021-11-23T10:21:05.857743Z",
        "shell.execute_reply": "2021-11-23T10:21:05.885662Z"
      },
      "trusted": true
    },
    "execution_count": 4,
    "outputs": []
  }, {
    "cell_type": "code",
    "source": "dat.describe()",
    "metadata": {
      "execution": {
        "iopub.status.busy": "2021-11-23T10:21:05.888469Z",
        "iopub.execute_input": "2021-11-23T10:21:05.888925Z",
        "iopub.status.idle": "2021-11-23T10:21:05.924599Z",
        "shell.execute_reply.started": "2021-11-23T10:21:05.888891Z",
        "shell.execute_reply": "2021-11-23T10:21:05.923677Z"
      },
      "trusted": true
    },
    "execution_count": 5,
    "outputs": []
  }, {
    "cell_type": "code",
    "source": "%matplotlib inline\nimport matplotlib.pyplot as plt\ndat.hist(bins = 50, figsize = (20,15))\n#save_fig(\"att_hist_plots\")\nplt.show()",
    "metadata": {
      "execution": {
        "iopub.status.busy": "2021-11-23T10:21:05.926031Z",
        "iopub.execute_input": "2021-11-23T10:21:05.926925Z",
        "iopub.status.idle": "2021-11-23T10:21:07.695168Z",
        "shell.execute_reply.started": "2021-11-23T10:21:05.926879Z",
        "shell.execute_reply": "2021-11-23T10:21:07.693876Z"
      },
      "trusted": true
    },
    "execution_count": 6,
    "outputs": []
  }, {
    "cell_type": "code",
    "source": "dat.isnull().sum()",
    "metadata": {
      "execution": {
        "iopub.status.busy": "2021-11-23T10:21:07.697058Z",
        "iopub.execute_input": "2021-11-23T10:21:07.697390Z",
        "iopub.status.idle": "2021-11-23T10:21:07.709818Z",
        "shell.execute_reply.started": "2021-11-23T10:21:07.697344Z",
        "shell.execute_reply": "2021-11-23T10:21:07.708393Z"
      },
      "trusted": true
    },
    "execution_count": 7,
    "outputs": []
  }, {
    "cell_type": "code",
    "source": "import seaborn as sns",
    "metadata": {
      "execution": {
        "iopub.status.busy": "2021-11-23T10:21:07.711876Z",
        "iopub.execute_input": "2021-11-23T10:21:07.712711Z",
        "iopub.status.idle": "2021-11-23T10:21:08.903774Z",
        "shell.execute_reply.started": "2021-11-23T10:21:07.712600Z",
        "shell.execute_reply": "2021-11-23T10:21:08.902588Z"
      },
      "trusted": true
    },
    "execution_count": 8,
    "outputs": []
  }, {
    "cell_type": "code",
    "source": "sns.regplot(y = 'Area', x = 'Price', data = dat)\n#sns.regplot(y = 'Parking', x = 'Price', data = dat) essentially useless\n#dat = dat.drop(columns = [\"Furnishing\", \"Parking\", \"Locality\"])",
    "metadata": {
      "execution": {
        "iopub.status.busy": "2021-11-23T10:21:08.905241Z",
        "iopub.execute_input": "2021-11-23T10:21:08.905512Z",
        "iopub.status.idle": "2021-11-23T10:21:09.348514Z",
        "shell.execute_reply.started": "2021-11-23T10:21:08.905481Z",
        "shell.execute_reply": "2021-11-23T10:21:09.347424Z"
      },
      "trusted": true
    },
    "execution_count": 9,
    "outputs": []
  }, {
    "cell_type": "code",
    "source": "pd.options.mode.chained_assignment = None\ndat[\"Per_Sqft\"] = dat[\"Per_Sqft\"].fillna(value = dat[\"Price\"]/dat[\"Area\"])\ndat[\"Bathroom\"] = dat[\"Bathroom\"].fillna(value = dat[\"Bathroom\"].median())\ndat_f = dat",
    "metadata": {
      "execution": {
        "iopub.status.busy": "2021-11-23T10:21:09.350228Z",
        "iopub.execute_input": "2021-11-23T10:21:09.350773Z",
        "iopub.status.idle": "2021-11-23T10:21:09.359559Z",
        "shell.execute_reply.started": "2021-11-23T10:21:09.350722Z",
        "shell.execute_reply": "2021-11-23T10:21:09.358671Z"
      },
      "trusted": true
    },
    "execution_count": 10,
    "outputs": []
  }, {
    "cell_type": "code",
    "source": "dat_f.isnull().sum()",
    "metadata": {
      "execution": {
        "iopub.status.busy": "2021-11-23T10:21:09.361155Z",
        "iopub.execute_input": "2021-11-23T10:21:09.361980Z",
        "iopub.status.idle": "2021-11-23T10:21:09.382272Z",
        "shell.execute_reply.started": "2021-11-23T10:21:09.361907Z",
        "shell.execute_reply": "2021-11-23T10:21:09.381069Z"
      },
      "trusted": true
    },
    "execution_count": 11,
    "outputs": []
  }, {
    "cell_type": "code",
    "source": "dat_f = dat\ndat_f.head(10)",
    "metadata": {
      "execution": {
        "iopub.status.busy": "2021-11-23T10:21:09.384057Z",
        "iopub.execute_input": "2021-11-23T10:21:09.384788Z",
        "iopub.status.idle": "2021-11-23T10:21:09.413403Z",
        "shell.execute_reply.started": "2021-11-23T10:21:09.384671Z",
        "shell.execute_reply": "2021-11-23T10:21:09.412033Z"
      },
      "trusted": true
    },
    "execution_count": 12,
    "outputs": []
  }, {
    "cell_type": "code",
    "source": "from sklearn.preprocessing import LabelEncoder\n\nor_enc = LabelEncoder()\n#dat_f = dat_f.dropna()\ndat_f[\"Type\"] = or_enc.fit_transform(dat_f[\"Type\"].astype('str'))\ndat_f[\"Locality\"] = or_enc.fit_transform(dat_f[\"Locality\"].astype('str'))\ndat_f[\"Status\"] = or_enc.fit_transform(dat_f[\"Status\"])\ndat_f[\"Transaction\"] = or_enc.fit_transform(dat_f[\"Transaction\"])\ndat_f.head()\n",
    "metadata": {
      "execution": {
        "iopub.status.busy": "2021-11-23T10:21:09.415123Z",
        "iopub.execute_input": "2021-11-23T10:21:09.416157Z",
        "iopub.status.idle": "2021-11-23T10:21:09.613000Z",
        "shell.execute_reply.started": "2021-11-23T10:21:09.416104Z",
        "shell.execute_reply": "2021-11-23T10:21:09.611704Z"
      },
      "trusted": true
    },
    "execution_count": 13,
    "outputs": []
  }, {
    "cell_type": "code",
    "source": "dat = dat.drop_duplicates()\ndat.head()",
    "metadata": {
      "execution": {
        "iopub.status.busy": "2021-11-23T10:21:09.618238Z",
        "iopub.execute_input": "2021-11-23T10:21:09.618522Z",
        "iopub.status.idle": "2021-11-23T10:21:09.647153Z",
        "shell.execute_reply.started": "2021-11-23T10:21:09.618492Z",
        "shell.execute_reply": "2021-11-23T10:21:09.645909Z"
      },
      "trusted": true
    },
    "execution_count": 14,
    "outputs": []
  }, {
    "cell_type": "code",
    "source": "sns.heatmap(dat_f.corr(),annot=True)",
    "metadata": {
      "execution": {
        "iopub.status.busy": "2021-11-23T10:21:09.648763Z",
        "iopub.execute_input": "2021-11-23T10:21:09.649587Z",
        "iopub.status.idle": "2021-11-23T10:21:10.617314Z",
        "shell.execute_reply.started": "2021-11-23T10:21:09.649542Z",
        "shell.execute_reply": "2021-11-23T10:21:10.616468Z"
      },
      "trusted": true
    },
    "execution_count": 15,
    "outputs": []
  }, {
    "cell_type": "code",
    "source": "sns.heatmap(dat.corr(), annot=True)\n#parking, are useless",
    "metadata": {
      "execution": {
        "iopub.status.busy": "2021-11-23T10:21:10.618729Z",
        "iopub.execute_input": "2021-11-23T10:21:10.619752Z",
        "iopub.status.idle": "2021-11-23T10:21:11.579150Z",
        "shell.execute_reply.started": "2021-11-23T10:21:10.619710Z",
        "shell.execute_reply": "2021-11-23T10:21:11.577528Z"
      },
      "trusted": true
    },
    "execution_count": 16,
    "outputs": []
  }, {
    "cell_type": "code",
    "source": "from sklearn.preprocessing import StandardScaler\nscaler=StandardScaler()",
    "metadata": {
      "execution": {
        "iopub.status.busy": "2021-11-23T10:21:11.580997Z",
        "iopub.execute_input": "2021-11-23T10:21:11.581322Z",
        "iopub.status.idle": "2021-11-23T10:21:11.588524Z",
        "shell.execute_reply.started": "2021-11-23T10:21:11.581284Z",
        "shell.execute_reply": "2021-11-23T10:21:11.587321Z"
      },
      "trusted": true
    },
    "execution_count": 17,
    "outputs": []
  }, {
    "cell_type": "code",
    "source": "#dat_f = dat_f.drop(columns=['Price', 'Furnishing', 'Parking', 'bath_per_room'])\nX = dat_f.drop(columns=['Price', 'Furnishing', 'Parking'])\ntmp = dat_f.drop(columns=['Furnishing', 'Parking'])\n#tmp = dat_f.drop(columns=['Price', 'Furnishing', 'Parking', 'bath_per_room'])\nX",
    "metadata": {
      "execution": {
        "iopub.status.busy": "2021-11-23T10:21:11.589553Z",
        "iopub.execute_input": "2021-11-23T10:21:11.589809Z",
        "iopub.status.idle": "2021-11-23T10:21:11.626912Z",
        "shell.execute_reply.started": "2021-11-23T10:21:11.589779Z",
        "shell.execute_reply": "2021-11-23T10:21:11.626163Z"
      },
      "trusted": true
    },
    "execution_count": 18,
    "outputs": []
  }, {
    "cell_type": "code",
    "source": "tmp.isnull().sum()",
    "metadata": {
      "execution": {
        "iopub.status.busy": "2021-11-23T10:21:11.628427Z",
        "iopub.execute_input": "2021-11-23T10:21:11.629603Z",
        "iopub.status.idle": "2021-11-23T10:21:11.647286Z",
        "shell.execute_reply.started": "2021-11-23T10:21:11.629562Z",
        "shell.execute_reply": "2021-11-23T10:21:11.646115Z"
      },
      "trusted": true
    },
    "execution_count": 19,
    "outputs": []
  }, {
    "cell_type": "code",
    "source": "X=scaler.fit_transform(X)\nX",
    "metadata": {
      "execution": {
        "iopub.status.busy": "2021-11-23T10:21:11.648498Z",
        "iopub.execute_input": "2021-11-23T10:21:11.649313Z",
        "iopub.status.idle": "2021-11-23T10:21:11.670642Z",
        "shell.execute_reply.started": "2021-11-23T10:21:11.649271Z",
        "shell.execute_reply": "2021-11-23T10:21:11.669706Z"
      },
      "trusted": true
    },
    "execution_count": 20,
    "outputs": []
  }, {
    "cell_type": "code",
    "source": "y=dat_f['Price'].values\nfor i in y:\n    if(pd.isna(i)):\n        print(\"aaa\")",
    "metadata": {
      "execution": {
        "iopub.status.busy": "2021-11-23T10:21:11.672053Z",
        "iopub.execute_input": "2021-11-23T10:21:11.672327Z",
        "iopub.status.idle": "2021-11-23T10:21:11.682069Z",
        "shell.execute_reply.started": "2021-11-23T10:21:11.672297Z",
        "shell.execute_reply": "2021-11-23T10:21:11.680709Z"
      },
      "trusted": true
    },
    "execution_count": 21,
    "outputs": []
  }, {
    "cell_type": "code",
    "source": "from sklearn.model_selection import train_test_split\nX_train,X_test,y_train,y_test=train_test_split(X,y,train_size=0.9,random_state=2)",
    "metadata": {
      "execution": {
        "iopub.status.busy": "2021-11-23T10:21:11.683490Z",
        "iopub.execute_input": "2021-11-23T10:21:11.683772Z",
        "iopub.status.idle": "2021-11-23T10:21:11.772008Z",
        "shell.execute_reply.started": "2021-11-23T10:21:11.683739Z",
        "shell.execute_reply": "2021-11-23T10:21:11.770812Z"
      },
      "trusted": true
    },
    "execution_count": 22,
    "outputs": []
  }, {
    "cell_type": "code",
    "source": "print(X_train.shape)\nprint(X_test.shape)\nprint(y_train.shape)\nprint(y_test.shape)",
    "metadata": {
      "execution": {
        "iopub.status.busy": "2021-11-23T10:21:11.774209Z",
        "iopub.execute_input": "2021-11-23T10:21:11.774614Z",
        "iopub.status.idle": "2021-11-23T10:21:11.782014Z",
        "shell.execute_reply.started": "2021-11-23T10:21:11.774572Z",
        "shell.execute_reply": "2021-11-23T10:21:11.780957Z"
      },
      "trusted": true
    },
    "execution_count": 23,
    "outputs": []
  }, {
    "cell_type": "code",
    "source": "from sklearn.linear_model import LinearRegression\nlr=LinearRegression()",
    "metadata": {
      "execution": {
        "iopub.status.busy": "2021-11-23T10:21:11.783341Z",
        "iopub.execute_input": "2021-11-23T10:21:11.783649Z",
        "iopub.status.idle": "2021-11-23T10:21:12.071910Z",
        "shell.execute_reply.started": "2021-11-23T10:21:11.783601Z",
        "shell.execute_reply": "2021-11-23T10:21:12.070742Z"
      },
      "trusted": true
    },
    "execution_count": 24,
    "outputs": []
  }, {
    "cell_type": "code",
    "source": "lr.fit(X_train,y_train)",
    "metadata": {
      "execution": {
        "iopub.status.busy": "2021-11-23T10:21:12.073207Z",
        "iopub.execute_input": "2021-11-23T10:21:12.073445Z",
        "iopub.status.idle": "2021-11-23T10:21:12.085278Z",
        "shell.execute_reply.started": "2021-11-23T10:21:12.073416Z",
        "shell.execute_reply": "2021-11-23T10:21:12.084385Z"
      },
      "trusted": true
    },
    "execution_count": 25,
    "outputs": []
  }, {
    "cell_type": "code",
    "source": "y_pred=lr.predict(X_test)",
    "metadata": {
      "execution": {
        "iopub.status.busy": "2021-11-23T10:21:12.086451Z",
        "iopub.execute_input": "2021-11-23T10:21:12.086740Z",
        "iopub.status.idle": "2021-11-23T10:21:12.092875Z",
        "shell.execute_reply.started": "2021-11-23T10:21:12.086708Z",
        "shell.execute_reply": "2021-11-23T10:21:12.091937Z"
      },
      "trusted": true
    },
    "execution_count": 26,
    "outputs": []
  }, {
    "cell_type": "code",
    "source": "y_pred",
    "metadata": {
      "execution": {
        "iopub.status.busy": "2021-11-23T10:21:12.094277Z",
        "iopub.execute_input": "2021-11-23T10:21:12.094556Z",
        "iopub.status.idle": "2021-11-23T10:21:12.112757Z",
        "shell.execute_reply.started": "2021-11-23T10:21:12.094520Z",
        "shell.execute_reply": "2021-11-23T10:21:12.112017Z"
      },
      "trusted": true
    },
    "execution_count": 27,
    "outputs": []
  }, {
    "cell_type": "code",
    "source": "from sklearn.metrics import r2_score\nr2_score(y_test,y_pred)",
    "metadata": {
      "execution": {
        "iopub.status.busy": "2021-11-23T10:21:12.114074Z",
        "iopub.execute_input": "2021-11-23T10:21:12.114491Z",
        "iopub.status.idle": "2021-11-23T10:21:12.126207Z",
        "shell.execute_reply.started": "2021-11-23T10:21:12.114453Z",
        "shell.execute_reply": "2021-11-23T10:21:12.125463Z"
      },
      "trusted": true
    },
    "execution_count": 28,
    "outputs": []
  }, {
    "cell_type": "code",
    "source": "import matplotlib.pyplot as plt\n\nplt.scatter(x=y_test, y=y_pred)\nplt.show()",
    "metadata": {
      "execution": {
        "iopub.status.busy": "2021-11-23T10:21:12.127477Z",
        "iopub.execute_input": "2021-11-23T10:21:12.128576Z",
        "iopub.status.idle": "2021-11-23T10:21:12.368257Z",
        "shell.execute_reply.started": "2021-11-23T10:21:12.128503Z",
        "shell.execute_reply": "2021-11-23T10:21:12.367353Z"
      },
      "trusted": true
    },
    "execution_count": 29,
    "outputs": []
  }, {
    "cell_type": "code",
    "source": "from sklearn.ensemble import RandomForestRegressor\nrf= RandomForestRegressor(n_estimators=100,random_state=0)",
    "metadata": {
      "execution": {
        "iopub.status.busy": "2021-11-23T10:21:12.369606Z",
        "iopub.execute_input": "2021-11-23T10:21:12.369880Z",
        "iopub.status.idle": "2021-11-23T10:21:12.518636Z",
        "shell.execute_reply.started": "2021-11-23T10:21:12.369849Z",
        "shell.execute_reply": "2021-11-23T10:21:12.517130Z"
      },
      "trusted": true
    },
    "execution_count": 30,
    "outputs": []
  }, {
    "cell_type": "code",
    "source": "rf.fit(X_train, y_train)",
    "metadata": {
      "execution": {
        "iopub.status.busy": "2021-11-23T10:21:12.521848Z",
        "iopub.execute_input": "2021-11-23T10:21:12.522238Z",
        "iopub.status.idle": "2021-11-23T10:21:13.015908Z",
        "shell.execute_reply.started": "2021-11-23T10:21:12.522193Z",
        "shell.execute_reply": "2021-11-23T10:21:13.015012Z"
      },
      "trusted": true
    },
    "execution_count": 31,
    "outputs": []
  }, {
    "cell_type": "code",
    "source": "y_pred1=rf.predict(X_test)",
    "metadata": {
      "execution": {
        "iopub.status.busy": "2021-11-23T10:21:13.017245Z",
        "iopub.execute_input": "2021-11-23T10:21:13.017503Z",
        "iopub.status.idle": "2021-11-23T10:21:13.039230Z",
        "shell.execute_reply.started": "2021-11-23T10:21:13.017472Z",
        "shell.execute_reply": "2021-11-23T10:21:13.037914Z"
      },
      "trusted": true
    },
    "execution_count": 32,
    "outputs": []
  }, {
    "cell_type": "code",
    "source": "y_pred1",
    "metadata": {
      "execution": {
        "iopub.status.busy": "2021-11-23T10:21:13.041115Z",
        "iopub.execute_input": "2021-11-23T10:21:13.042004Z",
        "iopub.status.idle": "2021-11-23T10:21:13.052301Z",
        "shell.execute_reply.started": "2021-11-23T10:21:13.041949Z",
        "shell.execute_reply": "2021-11-23T10:21:13.051172Z"
      },
      "trusted": true
    },
    "execution_count": 33,
    "outputs": []
  }, {
    "cell_type": "code",
    "source": "# BEST RESULT\nr2_score(y_test,y_pred1) ",
    "metadata": {
      "execution": {
        "iopub.status.busy": "2021-11-23T10:21:27.482040Z",
        "iopub.execute_input": "2021-11-23T10:21:27.482324Z",
        "iopub.status.idle": "2021-11-23T10:21:27.489574Z",
        "shell.execute_reply.started": "2021-11-23T10:21:27.482294Z",
        "shell.execute_reply": "2021-11-23T10:21:27.488652Z"
      },
      "trusted": true
    },
    "execution_count": 38,
    "outputs": []
  }, {
    "cell_type": "code",
    "source": "plt.scatter(x=y_test, y=y_pred1)\nplt.show()",
    "metadata": {
      "execution": {
        "iopub.status.busy": "2021-11-23T10:21:13.070701Z",
        "iopub.execute_input": "2021-11-23T10:21:13.071464Z",
        "iopub.status.idle": "2021-11-23T10:21:13.311209Z",
        "shell.execute_reply.started": "2021-11-23T10:21:13.071414Z",
        "shell.execute_reply": "2021-11-23T10:21:13.310094Z"
      },
      "trusted": true
    },
    "execution_count": 35,
    "outputs": []
  }, {
    "cell_type": "code",
    "source": "from sklearn.ensemble import GradientBoostingRegressor\nGB = GradientBoostingRegressor(loss='ls',n_estimators=800,subsample=0.1,criterion='mse',max_features='auto',min_samples_leaf=5, min_samples_split=4, max_leaf_nodes=40, learning_rate=0.05, max_depth=20, random_state=2, n_iter_no_change=5)",
    "metadata": {
      "execution": {
        "iopub.status.busy": "2021-11-23T10:21:13.313186Z",
        "iopub.execute_input": "2021-11-23T10:21:13.313759Z",
        "iopub.status.idle": "2021-11-23T10:21:13.320910Z",
        "shell.execute_reply.started": "2021-11-23T10:21:13.313705Z",
        "shell.execute_reply": "2021-11-23T10:21:13.319880Z"
      },
      "trusted": true
    },
    "execution_count": 36,
    "outputs": []
  }, {
    "cell_type": "code",
    "source": "GB.fit(X_train, y_train)\ny_pred3 = GB.predict(X_test)\nr2_score(y_test,y_pred3)",
    "metadata": {
      "execution": {
        "iopub.status.busy": "2021-11-23T10:21:13.322995Z",
        "iopub.execute_input": "2021-11-23T10:21:13.323616Z",
        "iopub.status.idle": "2021-11-23T10:21:13.404905Z",
        "shell.execute_reply.started": "2021-11-23T10:21:13.323566Z",
        "shell.execute_reply": "2021-11-23T10:21:13.403960Z"
      },
      "trusted": true
    },
    "execution_count": 37,
    "outputs": []
  }, {
    "cell_type": "code",
    "source": "",
    "metadata": {},
    "execution_count": null,
    "outputs": []
  }]
}