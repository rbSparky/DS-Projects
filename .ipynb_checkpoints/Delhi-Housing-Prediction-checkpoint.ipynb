{
 "cells": [
  {
   "cell_type": "code",
   "execution_count": 1,
   "metadata": {
    "_cell_guid": "b1076dfc-b9ad-4769-8c92-a6c4dae69d19",
    "_uuid": "8f2839f25d086af736a60e9eeb907d3b93b6e0e5",
    "execution": {
     "iopub.execute_input": "2021-11-23T10:21:05.743481Z",
     "iopub.status.busy": "2021-11-23T10:21:05.742664Z",
     "iopub.status.idle": "2021-11-23T10:21:05.792196Z",
     "shell.execute_reply": "2021-11-23T10:21:05.790756Z",
     "shell.execute_reply.started": "2021-11-23T10:21:05.743310Z"
    }
   },
   "outputs": [],
   "source": [
    "# This Python 3 environment comes with many helpful analytics libraries installed\n",
    "# It is defined by the kaggle/python Docker image: https://github.com/kaggle/docker-python\n",
    "# For example, here's several helpful packages to load\n",
    "\n",
    "import numpy as np # linear algebra\n",
    "import pandas as pd # data processing, CSV file I/O (e.g. pd.read_csv)\n",
    "\n",
    "# Input data files are available in the read-only \"../input/\" directory\n",
    "# For example, running this (by clicking run or pressing Shift+Enter) will list all files under the input directory\n",
    "\n",
    "import os\n",
    "for dirname, _, filenames in os.walk('/kaggle/input'):\n",
    "    for filename in filenames:\n",
    "        print(os.path.join(dirname, filename))\n",
    "\n",
    "# You can write up to 20GB to the current directory (/kaggle/working/) that gets preserved as output when you create a version using \"Save & Run All\" \n",
    "# You can also write temporary files to /kaggle/temp/, but they won't be saved outside of the current session"
   ]
  },
  {
   "cell_type": "code",
   "execution_count": 2,
   "metadata": {
    "execution": {
     "iopub.execute_input": "2021-11-23T10:21:05.794785Z",
     "iopub.status.busy": "2021-11-23T10:21:05.794483Z",
     "iopub.status.idle": "2021-11-23T10:21:05.822886Z",
     "shell.execute_reply": "2021-11-23T10:21:05.822055Z",
     "shell.execute_reply.started": "2021-11-23T10:21:05.794750Z"
    }
   },
   "outputs": [
    {
     "ename": "FileNotFoundError",
     "evalue": "[Errno 2] No such file or directory: '/kaggle/input/delhi-house-price-prediction/MagicBricks.csv'",
     "output_type": "error",
     "traceback": [
      "\u001b[1;31m---------------------------------------------------------------------------\u001b[0m",
      "\u001b[1;31mFileNotFoundError\u001b[0m                         Traceback (most recent call last)",
      "\u001b[1;32m<ipython-input-2-f9a414a3c4c7>\u001b[0m in \u001b[0;36m<module>\u001b[1;34m\u001b[0m\n\u001b[1;32m----> 1\u001b[1;33m \u001b[0mdat\u001b[0m \u001b[1;33m=\u001b[0m \u001b[0mpd\u001b[0m\u001b[1;33m.\u001b[0m\u001b[0mread_csv\u001b[0m\u001b[1;33m(\u001b[0m\u001b[1;34m'/kaggle/input/delhi-house-price-prediction/MagicBricks.csv'\u001b[0m\u001b[1;33m)\u001b[0m\u001b[1;33m\u001b[0m\u001b[1;33m\u001b[0m\u001b[0m\n\u001b[0m",
      "\u001b[1;32mc:\\users\\rishabh\\appdata\\local\\programs\\python\\python38-32\\lib\\site-packages\\pandas\\util\\_decorators.py\u001b[0m in \u001b[0;36mwrapper\u001b[1;34m(*args, **kwargs)\u001b[0m\n\u001b[0;32m    309\u001b[0m                     \u001b[0mstacklevel\u001b[0m\u001b[1;33m=\u001b[0m\u001b[0mstacklevel\u001b[0m\u001b[1;33m,\u001b[0m\u001b[1;33m\u001b[0m\u001b[1;33m\u001b[0m\u001b[0m\n\u001b[0;32m    310\u001b[0m                 )\n\u001b[1;32m--> 311\u001b[1;33m             \u001b[1;32mreturn\u001b[0m \u001b[0mfunc\u001b[0m\u001b[1;33m(\u001b[0m\u001b[1;33m*\u001b[0m\u001b[0margs\u001b[0m\u001b[1;33m,\u001b[0m \u001b[1;33m**\u001b[0m\u001b[0mkwargs\u001b[0m\u001b[1;33m)\u001b[0m\u001b[1;33m\u001b[0m\u001b[1;33m\u001b[0m\u001b[0m\n\u001b[0m\u001b[0;32m    312\u001b[0m \u001b[1;33m\u001b[0m\u001b[0m\n\u001b[0;32m    313\u001b[0m         \u001b[1;32mreturn\u001b[0m \u001b[0mwrapper\u001b[0m\u001b[1;33m\u001b[0m\u001b[1;33m\u001b[0m\u001b[0m\n",
      "\u001b[1;32mc:\\users\\rishabh\\appdata\\local\\programs\\python\\python38-32\\lib\\site-packages\\pandas\\io\\parsers\\readers.py\u001b[0m in \u001b[0;36mread_csv\u001b[1;34m(filepath_or_buffer, sep, delimiter, header, names, index_col, usecols, squeeze, prefix, mangle_dupe_cols, dtype, engine, converters, true_values, false_values, skipinitialspace, skiprows, skipfooter, nrows, na_values, keep_default_na, na_filter, verbose, skip_blank_lines, parse_dates, infer_datetime_format, keep_date_col, date_parser, dayfirst, cache_dates, iterator, chunksize, compression, thousands, decimal, lineterminator, quotechar, quoting, doublequote, escapechar, comment, encoding, encoding_errors, dialect, error_bad_lines, warn_bad_lines, on_bad_lines, delim_whitespace, low_memory, memory_map, float_precision, storage_options)\u001b[0m\n\u001b[0;32m    584\u001b[0m     \u001b[0mkwds\u001b[0m\u001b[1;33m.\u001b[0m\u001b[0mupdate\u001b[0m\u001b[1;33m(\u001b[0m\u001b[0mkwds_defaults\u001b[0m\u001b[1;33m)\u001b[0m\u001b[1;33m\u001b[0m\u001b[1;33m\u001b[0m\u001b[0m\n\u001b[0;32m    585\u001b[0m \u001b[1;33m\u001b[0m\u001b[0m\n\u001b[1;32m--> 586\u001b[1;33m     \u001b[1;32mreturn\u001b[0m \u001b[0m_read\u001b[0m\u001b[1;33m(\u001b[0m\u001b[0mfilepath_or_buffer\u001b[0m\u001b[1;33m,\u001b[0m \u001b[0mkwds\u001b[0m\u001b[1;33m)\u001b[0m\u001b[1;33m\u001b[0m\u001b[1;33m\u001b[0m\u001b[0m\n\u001b[0m\u001b[0;32m    587\u001b[0m \u001b[1;33m\u001b[0m\u001b[0m\n\u001b[0;32m    588\u001b[0m \u001b[1;33m\u001b[0m\u001b[0m\n",
      "\u001b[1;32mc:\\users\\rishabh\\appdata\\local\\programs\\python\\python38-32\\lib\\site-packages\\pandas\\io\\parsers\\readers.py\u001b[0m in \u001b[0;36m_read\u001b[1;34m(filepath_or_buffer, kwds)\u001b[0m\n\u001b[0;32m    480\u001b[0m \u001b[1;33m\u001b[0m\u001b[0m\n\u001b[0;32m    481\u001b[0m     \u001b[1;31m# Create the parser.\u001b[0m\u001b[1;33m\u001b[0m\u001b[1;33m\u001b[0m\u001b[1;33m\u001b[0m\u001b[0m\n\u001b[1;32m--> 482\u001b[1;33m     \u001b[0mparser\u001b[0m \u001b[1;33m=\u001b[0m \u001b[0mTextFileReader\u001b[0m\u001b[1;33m(\u001b[0m\u001b[0mfilepath_or_buffer\u001b[0m\u001b[1;33m,\u001b[0m \u001b[1;33m**\u001b[0m\u001b[0mkwds\u001b[0m\u001b[1;33m)\u001b[0m\u001b[1;33m\u001b[0m\u001b[1;33m\u001b[0m\u001b[0m\n\u001b[0m\u001b[0;32m    483\u001b[0m \u001b[1;33m\u001b[0m\u001b[0m\n\u001b[0;32m    484\u001b[0m     \u001b[1;32mif\u001b[0m \u001b[0mchunksize\u001b[0m \u001b[1;32mor\u001b[0m \u001b[0miterator\u001b[0m\u001b[1;33m:\u001b[0m\u001b[1;33m\u001b[0m\u001b[1;33m\u001b[0m\u001b[0m\n",
      "\u001b[1;32mc:\\users\\rishabh\\appdata\\local\\programs\\python\\python38-32\\lib\\site-packages\\pandas\\io\\parsers\\readers.py\u001b[0m in \u001b[0;36m__init__\u001b[1;34m(self, f, engine, **kwds)\u001b[0m\n\u001b[0;32m    809\u001b[0m             \u001b[0mself\u001b[0m\u001b[1;33m.\u001b[0m\u001b[0moptions\u001b[0m\u001b[1;33m[\u001b[0m\u001b[1;34m\"has_index_names\"\u001b[0m\u001b[1;33m]\u001b[0m \u001b[1;33m=\u001b[0m \u001b[0mkwds\u001b[0m\u001b[1;33m[\u001b[0m\u001b[1;34m\"has_index_names\"\u001b[0m\u001b[1;33m]\u001b[0m\u001b[1;33m\u001b[0m\u001b[1;33m\u001b[0m\u001b[0m\n\u001b[0;32m    810\u001b[0m \u001b[1;33m\u001b[0m\u001b[0m\n\u001b[1;32m--> 811\u001b[1;33m         \u001b[0mself\u001b[0m\u001b[1;33m.\u001b[0m\u001b[0m_engine\u001b[0m \u001b[1;33m=\u001b[0m \u001b[0mself\u001b[0m\u001b[1;33m.\u001b[0m\u001b[0m_make_engine\u001b[0m\u001b[1;33m(\u001b[0m\u001b[0mself\u001b[0m\u001b[1;33m.\u001b[0m\u001b[0mengine\u001b[0m\u001b[1;33m)\u001b[0m\u001b[1;33m\u001b[0m\u001b[1;33m\u001b[0m\u001b[0m\n\u001b[0m\u001b[0;32m    812\u001b[0m \u001b[1;33m\u001b[0m\u001b[0m\n\u001b[0;32m    813\u001b[0m     \u001b[1;32mdef\u001b[0m \u001b[0mclose\u001b[0m\u001b[1;33m(\u001b[0m\u001b[0mself\u001b[0m\u001b[1;33m)\u001b[0m\u001b[1;33m:\u001b[0m\u001b[1;33m\u001b[0m\u001b[1;33m\u001b[0m\u001b[0m\n",
      "\u001b[1;32mc:\\users\\rishabh\\appdata\\local\\programs\\python\\python38-32\\lib\\site-packages\\pandas\\io\\parsers\\readers.py\u001b[0m in \u001b[0;36m_make_engine\u001b[1;34m(self, engine)\u001b[0m\n\u001b[0;32m   1038\u001b[0m             )\n\u001b[0;32m   1039\u001b[0m         \u001b[1;31m# error: Too many arguments for \"ParserBase\"\u001b[0m\u001b[1;33m\u001b[0m\u001b[1;33m\u001b[0m\u001b[1;33m\u001b[0m\u001b[0m\n\u001b[1;32m-> 1040\u001b[1;33m         \u001b[1;32mreturn\u001b[0m \u001b[0mmapping\u001b[0m\u001b[1;33m[\u001b[0m\u001b[0mengine\u001b[0m\u001b[1;33m]\u001b[0m\u001b[1;33m(\u001b[0m\u001b[0mself\u001b[0m\u001b[1;33m.\u001b[0m\u001b[0mf\u001b[0m\u001b[1;33m,\u001b[0m \u001b[1;33m**\u001b[0m\u001b[0mself\u001b[0m\u001b[1;33m.\u001b[0m\u001b[0moptions\u001b[0m\u001b[1;33m)\u001b[0m  \u001b[1;31m# type: ignore[call-arg]\u001b[0m\u001b[1;33m\u001b[0m\u001b[1;33m\u001b[0m\u001b[0m\n\u001b[0m\u001b[0;32m   1041\u001b[0m \u001b[1;33m\u001b[0m\u001b[0m\n\u001b[0;32m   1042\u001b[0m     \u001b[1;32mdef\u001b[0m \u001b[0m_failover_to_python\u001b[0m\u001b[1;33m(\u001b[0m\u001b[0mself\u001b[0m\u001b[1;33m)\u001b[0m\u001b[1;33m:\u001b[0m\u001b[1;33m\u001b[0m\u001b[1;33m\u001b[0m\u001b[0m\n",
      "\u001b[1;32mc:\\users\\rishabh\\appdata\\local\\programs\\python\\python38-32\\lib\\site-packages\\pandas\\io\\parsers\\c_parser_wrapper.py\u001b[0m in \u001b[0;36m__init__\u001b[1;34m(self, src, **kwds)\u001b[0m\n\u001b[0;32m     49\u001b[0m \u001b[1;33m\u001b[0m\u001b[0m\n\u001b[0;32m     50\u001b[0m         \u001b[1;31m# open handles\u001b[0m\u001b[1;33m\u001b[0m\u001b[1;33m\u001b[0m\u001b[1;33m\u001b[0m\u001b[0m\n\u001b[1;32m---> 51\u001b[1;33m         \u001b[0mself\u001b[0m\u001b[1;33m.\u001b[0m\u001b[0m_open_handles\u001b[0m\u001b[1;33m(\u001b[0m\u001b[0msrc\u001b[0m\u001b[1;33m,\u001b[0m \u001b[0mkwds\u001b[0m\u001b[1;33m)\u001b[0m\u001b[1;33m\u001b[0m\u001b[1;33m\u001b[0m\u001b[0m\n\u001b[0m\u001b[0;32m     52\u001b[0m         \u001b[1;32massert\u001b[0m \u001b[0mself\u001b[0m\u001b[1;33m.\u001b[0m\u001b[0mhandles\u001b[0m \u001b[1;32mis\u001b[0m \u001b[1;32mnot\u001b[0m \u001b[1;32mNone\u001b[0m\u001b[1;33m\u001b[0m\u001b[1;33m\u001b[0m\u001b[0m\n\u001b[0;32m     53\u001b[0m \u001b[1;33m\u001b[0m\u001b[0m\n",
      "\u001b[1;32mc:\\users\\rishabh\\appdata\\local\\programs\\python\\python38-32\\lib\\site-packages\\pandas\\io\\parsers\\base_parser.py\u001b[0m in \u001b[0;36m_open_handles\u001b[1;34m(self, src, kwds)\u001b[0m\n\u001b[0;32m    220\u001b[0m         \u001b[0mLet\u001b[0m \u001b[0mthe\u001b[0m \u001b[0mreaders\u001b[0m \u001b[0mopen\u001b[0m \u001b[0mIOHandles\u001b[0m \u001b[0mafter\u001b[0m \u001b[0mthey\u001b[0m \u001b[0mare\u001b[0m \u001b[0mdone\u001b[0m \u001b[1;32mwith\u001b[0m \u001b[0mtheir\u001b[0m \u001b[0mpotential\u001b[0m \u001b[0mraises\u001b[0m\u001b[1;33m.\u001b[0m\u001b[1;33m\u001b[0m\u001b[1;33m\u001b[0m\u001b[0m\n\u001b[0;32m    221\u001b[0m         \"\"\"\n\u001b[1;32m--> 222\u001b[1;33m         self.handles = get_handle(\n\u001b[0m\u001b[0;32m    223\u001b[0m             \u001b[0msrc\u001b[0m\u001b[1;33m,\u001b[0m\u001b[1;33m\u001b[0m\u001b[1;33m\u001b[0m\u001b[0m\n\u001b[0;32m    224\u001b[0m             \u001b[1;34m\"r\"\u001b[0m\u001b[1;33m,\u001b[0m\u001b[1;33m\u001b[0m\u001b[1;33m\u001b[0m\u001b[0m\n",
      "\u001b[1;32mc:\\users\\rishabh\\appdata\\local\\programs\\python\\python38-32\\lib\\site-packages\\pandas\\io\\common.py\u001b[0m in \u001b[0;36mget_handle\u001b[1;34m(path_or_buf, mode, encoding, compression, memory_map, is_text, errors, storage_options)\u001b[0m\n\u001b[0;32m    700\u001b[0m         \u001b[1;32mif\u001b[0m \u001b[0mioargs\u001b[0m\u001b[1;33m.\u001b[0m\u001b[0mencoding\u001b[0m \u001b[1;32mand\u001b[0m \u001b[1;34m\"b\"\u001b[0m \u001b[1;32mnot\u001b[0m \u001b[1;32min\u001b[0m \u001b[0mioargs\u001b[0m\u001b[1;33m.\u001b[0m\u001b[0mmode\u001b[0m\u001b[1;33m:\u001b[0m\u001b[1;33m\u001b[0m\u001b[1;33m\u001b[0m\u001b[0m\n\u001b[0;32m    701\u001b[0m             \u001b[1;31m# Encoding\u001b[0m\u001b[1;33m\u001b[0m\u001b[1;33m\u001b[0m\u001b[1;33m\u001b[0m\u001b[0m\n\u001b[1;32m--> 702\u001b[1;33m             handle = open(\n\u001b[0m\u001b[0;32m    703\u001b[0m                 \u001b[0mhandle\u001b[0m\u001b[1;33m,\u001b[0m\u001b[1;33m\u001b[0m\u001b[1;33m\u001b[0m\u001b[0m\n\u001b[0;32m    704\u001b[0m                 \u001b[0mioargs\u001b[0m\u001b[1;33m.\u001b[0m\u001b[0mmode\u001b[0m\u001b[1;33m,\u001b[0m\u001b[1;33m\u001b[0m\u001b[1;33m\u001b[0m\u001b[0m\n",
      "\u001b[1;31mFileNotFoundError\u001b[0m: [Errno 2] No such file or directory: '/kaggle/input/delhi-house-price-prediction/MagicBricks.csv'"
     ]
    }
   ],
   "source": [
    "dat = pd.read_csv('/kaggle/input/delhi-house-price-prediction/MagicBricks.csv')"
   ]
  },
  {
   "cell_type": "code",
   "execution_count": null,
   "metadata": {
    "execution": {
     "iopub.execute_input": "2021-11-23T10:21:05.824775Z",
     "iopub.status.busy": "2021-11-23T10:21:05.824082Z",
     "iopub.status.idle": "2021-11-23T10:21:05.855836Z",
     "shell.execute_reply": "2021-11-23T10:21:05.855046Z",
     "shell.execute_reply.started": "2021-11-23T10:21:05.824737Z"
    }
   },
   "outputs": [],
   "source": [
    "dat.head()"
   ]
  },
  {
   "cell_type": "code",
   "execution_count": null,
   "metadata": {
    "execution": {
     "iopub.execute_input": "2021-11-23T10:21:05.857790Z",
     "iopub.status.busy": "2021-11-23T10:21:05.857242Z",
     "iopub.status.idle": "2021-11-23T10:21:05.886296Z",
     "shell.execute_reply": "2021-11-23T10:21:05.885662Z",
     "shell.execute_reply.started": "2021-11-23T10:21:05.857743Z"
    }
   },
   "outputs": [],
   "source": [
    "dat.info()"
   ]
  },
  {
   "cell_type": "code",
   "execution_count": null,
   "metadata": {
    "execution": {
     "iopub.execute_input": "2021-11-23T10:21:05.888925Z",
     "iopub.status.busy": "2021-11-23T10:21:05.888469Z",
     "iopub.status.idle": "2021-11-23T10:21:05.924599Z",
     "shell.execute_reply": "2021-11-23T10:21:05.923677Z",
     "shell.execute_reply.started": "2021-11-23T10:21:05.888891Z"
    }
   },
   "outputs": [],
   "source": [
    "dat.describe()"
   ]
  },
  {
   "cell_type": "code",
   "execution_count": null,
   "metadata": {
    "execution": {
     "iopub.execute_input": "2021-11-23T10:21:05.926925Z",
     "iopub.status.busy": "2021-11-23T10:21:05.926031Z",
     "iopub.status.idle": "2021-11-23T10:21:07.695168Z",
     "shell.execute_reply": "2021-11-23T10:21:07.693876Z",
     "shell.execute_reply.started": "2021-11-23T10:21:05.926879Z"
    }
   },
   "outputs": [],
   "source": [
    "%matplotlib inline\n",
    "import matplotlib.pyplot as plt\n",
    "dat.hist(bins = 50, figsize = (20,15))\n",
    "#save_fig(\"att_hist_plots\")\n",
    "plt.show()"
   ]
  },
  {
   "cell_type": "code",
   "execution_count": null,
   "metadata": {
    "execution": {
     "iopub.execute_input": "2021-11-23T10:21:07.697390Z",
     "iopub.status.busy": "2021-11-23T10:21:07.697058Z",
     "iopub.status.idle": "2021-11-23T10:21:07.709818Z",
     "shell.execute_reply": "2021-11-23T10:21:07.708393Z",
     "shell.execute_reply.started": "2021-11-23T10:21:07.697344Z"
    }
   },
   "outputs": [],
   "source": [
    "dat.isnull().sum()"
   ]
  },
  {
   "cell_type": "code",
   "execution_count": null,
   "metadata": {
    "execution": {
     "iopub.execute_input": "2021-11-23T10:21:07.712711Z",
     "iopub.status.busy": "2021-11-23T10:21:07.711876Z",
     "iopub.status.idle": "2021-11-23T10:21:08.903774Z",
     "shell.execute_reply": "2021-11-23T10:21:08.902588Z",
     "shell.execute_reply.started": "2021-11-23T10:21:07.712600Z"
    }
   },
   "outputs": [],
   "source": [
    "import seaborn as sns"
   ]
  },
  {
   "cell_type": "code",
   "execution_count": null,
   "metadata": {
    "execution": {
     "iopub.execute_input": "2021-11-23T10:21:08.905512Z",
     "iopub.status.busy": "2021-11-23T10:21:08.905241Z",
     "iopub.status.idle": "2021-11-23T10:21:09.348514Z",
     "shell.execute_reply": "2021-11-23T10:21:09.347424Z",
     "shell.execute_reply.started": "2021-11-23T10:21:08.905481Z"
    }
   },
   "outputs": [],
   "source": [
    "sns.regplot(y = 'Area', x = 'Price', data = dat)\n",
    "#sns.regplot(y = 'Parking', x = 'Price', data = dat) essentially useless\n",
    "#dat = dat.drop(columns = [\"Furnishing\", \"Parking\", \"Locality\"])"
   ]
  },
  {
   "cell_type": "code",
   "execution_count": null,
   "metadata": {
    "execution": {
     "iopub.execute_input": "2021-11-23T10:21:09.350773Z",
     "iopub.status.busy": "2021-11-23T10:21:09.350228Z",
     "iopub.status.idle": "2021-11-23T10:21:09.359559Z",
     "shell.execute_reply": "2021-11-23T10:21:09.358671Z",
     "shell.execute_reply.started": "2021-11-23T10:21:09.350722Z"
    }
   },
   "outputs": [],
   "source": [
    "pd.options.mode.chained_assignment = None\n",
    "dat[\"Per_Sqft\"] = dat[\"Per_Sqft\"].fillna(value = dat[\"Price\"]/dat[\"Area\"])\n",
    "dat[\"Bathroom\"] = dat[\"Bathroom\"].fillna(value = dat[\"Bathroom\"].median())\n",
    "dat_f = dat"
   ]
  },
  {
   "cell_type": "code",
   "execution_count": null,
   "metadata": {
    "execution": {
     "iopub.execute_input": "2021-11-23T10:21:09.361980Z",
     "iopub.status.busy": "2021-11-23T10:21:09.361155Z",
     "iopub.status.idle": "2021-11-23T10:21:09.382272Z",
     "shell.execute_reply": "2021-11-23T10:21:09.381069Z",
     "shell.execute_reply.started": "2021-11-23T10:21:09.361907Z"
    }
   },
   "outputs": [],
   "source": [
    "dat_f.isnull().sum()"
   ]
  },
  {
   "cell_type": "code",
   "execution_count": null,
   "metadata": {
    "execution": {
     "iopub.execute_input": "2021-11-23T10:21:09.384788Z",
     "iopub.status.busy": "2021-11-23T10:21:09.384057Z",
     "iopub.status.idle": "2021-11-23T10:21:09.413403Z",
     "shell.execute_reply": "2021-11-23T10:21:09.412033Z",
     "shell.execute_reply.started": "2021-11-23T10:21:09.384671Z"
    }
   },
   "outputs": [],
   "source": [
    "dat_f = dat\n",
    "dat_f.head(10)"
   ]
  },
  {
   "cell_type": "code",
   "execution_count": null,
   "metadata": {
    "execution": {
     "iopub.execute_input": "2021-11-23T10:21:09.416157Z",
     "iopub.status.busy": "2021-11-23T10:21:09.415123Z",
     "iopub.status.idle": "2021-11-23T10:21:09.613000Z",
     "shell.execute_reply": "2021-11-23T10:21:09.611704Z",
     "shell.execute_reply.started": "2021-11-23T10:21:09.416104Z"
    }
   },
   "outputs": [],
   "source": [
    "from sklearn.preprocessing import LabelEncoder\n",
    "\n",
    "or_enc = LabelEncoder()\n",
    "#dat_f = dat_f.dropna()\n",
    "dat_f[\"Type\"] = or_enc.fit_transform(dat_f[\"Type\"].astype('str'))\n",
    "dat_f[\"Locality\"] = or_enc.fit_transform(dat_f[\"Locality\"].astype('str'))\n",
    "dat_f[\"Status\"] = or_enc.fit_transform(dat_f[\"Status\"])\n",
    "dat_f[\"Transaction\"] = or_enc.fit_transform(dat_f[\"Transaction\"])\n",
    "dat_f.head()\n"
   ]
  },
  {
   "cell_type": "code",
   "execution_count": null,
   "metadata": {
    "execution": {
     "iopub.execute_input": "2021-11-23T10:21:09.618522Z",
     "iopub.status.busy": "2021-11-23T10:21:09.618238Z",
     "iopub.status.idle": "2021-11-23T10:21:09.647153Z",
     "shell.execute_reply": "2021-11-23T10:21:09.645909Z",
     "shell.execute_reply.started": "2021-11-23T10:21:09.618492Z"
    }
   },
   "outputs": [],
   "source": [
    "dat = dat.drop_duplicates()\n",
    "dat.head()"
   ]
  },
  {
   "cell_type": "code",
   "execution_count": null,
   "metadata": {
    "execution": {
     "iopub.execute_input": "2021-11-23T10:21:09.649587Z",
     "iopub.status.busy": "2021-11-23T10:21:09.648763Z",
     "iopub.status.idle": "2021-11-23T10:21:10.617314Z",
     "shell.execute_reply": "2021-11-23T10:21:10.616468Z",
     "shell.execute_reply.started": "2021-11-23T10:21:09.649542Z"
    }
   },
   "outputs": [],
   "source": [
    "sns.heatmap(dat_f.corr(),annot=True)"
   ]
  },
  {
   "cell_type": "code",
   "execution_count": null,
   "metadata": {
    "execution": {
     "iopub.execute_input": "2021-11-23T10:21:10.619752Z",
     "iopub.status.busy": "2021-11-23T10:21:10.618729Z",
     "iopub.status.idle": "2021-11-23T10:21:11.579150Z",
     "shell.execute_reply": "2021-11-23T10:21:11.577528Z",
     "shell.execute_reply.started": "2021-11-23T10:21:10.619710Z"
    }
   },
   "outputs": [],
   "source": [
    "sns.heatmap(dat.corr(), annot=True)\n",
    "#parking, are useless"
   ]
  },
  {
   "cell_type": "code",
   "execution_count": null,
   "metadata": {
    "execution": {
     "iopub.execute_input": "2021-11-23T10:21:11.581322Z",
     "iopub.status.busy": "2021-11-23T10:21:11.580997Z",
     "iopub.status.idle": "2021-11-23T10:21:11.588524Z",
     "shell.execute_reply": "2021-11-23T10:21:11.587321Z",
     "shell.execute_reply.started": "2021-11-23T10:21:11.581284Z"
    }
   },
   "outputs": [],
   "source": [
    "from sklearn.preprocessing import StandardScaler\n",
    "scaler=StandardScaler()"
   ]
  },
  {
   "cell_type": "code",
   "execution_count": null,
   "metadata": {
    "execution": {
     "iopub.execute_input": "2021-11-23T10:21:11.589809Z",
     "iopub.status.busy": "2021-11-23T10:21:11.589553Z",
     "iopub.status.idle": "2021-11-23T10:21:11.626912Z",
     "shell.execute_reply": "2021-11-23T10:21:11.626163Z",
     "shell.execute_reply.started": "2021-11-23T10:21:11.589779Z"
    }
   },
   "outputs": [],
   "source": [
    "#dat_f = dat_f.drop(columns=['Price', 'Furnishing', 'Parking', 'bath_per_room'])\n",
    "X = dat_f.drop(columns=['Price', 'Furnishing', 'Parking'])\n",
    "tmp = dat_f.drop(columns=['Furnishing', 'Parking'])\n",
    "#tmp = dat_f.drop(columns=['Price', 'Furnishing', 'Parking', 'bath_per_room'])\n",
    "X"
   ]
  },
  {
   "cell_type": "code",
   "execution_count": null,
   "metadata": {
    "execution": {
     "iopub.execute_input": "2021-11-23T10:21:11.629603Z",
     "iopub.status.busy": "2021-11-23T10:21:11.628427Z",
     "iopub.status.idle": "2021-11-23T10:21:11.647286Z",
     "shell.execute_reply": "2021-11-23T10:21:11.646115Z",
     "shell.execute_reply.started": "2021-11-23T10:21:11.629562Z"
    }
   },
   "outputs": [],
   "source": [
    "tmp.isnull().sum()"
   ]
  },
  {
   "cell_type": "code",
   "execution_count": null,
   "metadata": {
    "execution": {
     "iopub.execute_input": "2021-11-23T10:21:11.649313Z",
     "iopub.status.busy": "2021-11-23T10:21:11.648498Z",
     "iopub.status.idle": "2021-11-23T10:21:11.670642Z",
     "shell.execute_reply": "2021-11-23T10:21:11.669706Z",
     "shell.execute_reply.started": "2021-11-23T10:21:11.649271Z"
    }
   },
   "outputs": [],
   "source": [
    "X=scaler.fit_transform(X)\n",
    "X"
   ]
  },
  {
   "cell_type": "code",
   "execution_count": null,
   "metadata": {
    "execution": {
     "iopub.execute_input": "2021-11-23T10:21:11.672327Z",
     "iopub.status.busy": "2021-11-23T10:21:11.672053Z",
     "iopub.status.idle": "2021-11-23T10:21:11.682069Z",
     "shell.execute_reply": "2021-11-23T10:21:11.680709Z",
     "shell.execute_reply.started": "2021-11-23T10:21:11.672297Z"
    }
   },
   "outputs": [],
   "source": [
    "y=dat_f['Price'].values\n",
    "for i in y:\n",
    "    if(pd.isna(i)):\n",
    "        print(\"aaa\")"
   ]
  },
  {
   "cell_type": "code",
   "execution_count": null,
   "metadata": {
    "execution": {
     "iopub.execute_input": "2021-11-23T10:21:11.683772Z",
     "iopub.status.busy": "2021-11-23T10:21:11.683490Z",
     "iopub.status.idle": "2021-11-23T10:21:11.772008Z",
     "shell.execute_reply": "2021-11-23T10:21:11.770812Z",
     "shell.execute_reply.started": "2021-11-23T10:21:11.683739Z"
    }
   },
   "outputs": [],
   "source": [
    "from sklearn.model_selection import train_test_split\n",
    "X_train,X_test,y_train,y_test=train_test_split(X,y,train_size=0.9,random_state=2)"
   ]
  },
  {
   "cell_type": "code",
   "execution_count": null,
   "metadata": {
    "execution": {
     "iopub.execute_input": "2021-11-23T10:21:11.774614Z",
     "iopub.status.busy": "2021-11-23T10:21:11.774209Z",
     "iopub.status.idle": "2021-11-23T10:21:11.782014Z",
     "shell.execute_reply": "2021-11-23T10:21:11.780957Z",
     "shell.execute_reply.started": "2021-11-23T10:21:11.774572Z"
    }
   },
   "outputs": [],
   "source": [
    "print(X_train.shape)\n",
    "print(X_test.shape)\n",
    "print(y_train.shape)\n",
    "print(y_test.shape)"
   ]
  },
  {
   "cell_type": "code",
   "execution_count": null,
   "metadata": {
    "execution": {
     "iopub.execute_input": "2021-11-23T10:21:11.783649Z",
     "iopub.status.busy": "2021-11-23T10:21:11.783341Z",
     "iopub.status.idle": "2021-11-23T10:21:12.071910Z",
     "shell.execute_reply": "2021-11-23T10:21:12.070742Z",
     "shell.execute_reply.started": "2021-11-23T10:21:11.783601Z"
    }
   },
   "outputs": [],
   "source": [
    "from sklearn.linear_model import LinearRegression\n",
    "lr=LinearRegression()"
   ]
  },
  {
   "cell_type": "code",
   "execution_count": null,
   "metadata": {
    "execution": {
     "iopub.execute_input": "2021-11-23T10:21:12.073445Z",
     "iopub.status.busy": "2021-11-23T10:21:12.073207Z",
     "iopub.status.idle": "2021-11-23T10:21:12.085278Z",
     "shell.execute_reply": "2021-11-23T10:21:12.084385Z",
     "shell.execute_reply.started": "2021-11-23T10:21:12.073416Z"
    }
   },
   "outputs": [],
   "source": [
    "lr.fit(X_train,y_train)"
   ]
  },
  {
   "cell_type": "code",
   "execution_count": null,
   "metadata": {
    "execution": {
     "iopub.execute_input": "2021-11-23T10:21:12.086740Z",
     "iopub.status.busy": "2021-11-23T10:21:12.086451Z",
     "iopub.status.idle": "2021-11-23T10:21:12.092875Z",
     "shell.execute_reply": "2021-11-23T10:21:12.091937Z",
     "shell.execute_reply.started": "2021-11-23T10:21:12.086708Z"
    }
   },
   "outputs": [],
   "source": [
    "y_pred=lr.predict(X_test)"
   ]
  },
  {
   "cell_type": "code",
   "execution_count": null,
   "metadata": {
    "execution": {
     "iopub.execute_input": "2021-11-23T10:21:12.094556Z",
     "iopub.status.busy": "2021-11-23T10:21:12.094277Z",
     "iopub.status.idle": "2021-11-23T10:21:12.112757Z",
     "shell.execute_reply": "2021-11-23T10:21:12.112017Z",
     "shell.execute_reply.started": "2021-11-23T10:21:12.094520Z"
    }
   },
   "outputs": [],
   "source": [
    "y_pred"
   ]
  },
  {
   "cell_type": "code",
   "execution_count": null,
   "metadata": {
    "execution": {
     "iopub.execute_input": "2021-11-23T10:21:12.114491Z",
     "iopub.status.busy": "2021-11-23T10:21:12.114074Z",
     "iopub.status.idle": "2021-11-23T10:21:12.126207Z",
     "shell.execute_reply": "2021-11-23T10:21:12.125463Z",
     "shell.execute_reply.started": "2021-11-23T10:21:12.114453Z"
    }
   },
   "outputs": [],
   "source": [
    "from sklearn.metrics import r2_score\n",
    "r2_score(y_test,y_pred)"
   ]
  },
  {
   "cell_type": "code",
   "execution_count": null,
   "metadata": {
    "execution": {
     "iopub.execute_input": "2021-11-23T10:21:12.128576Z",
     "iopub.status.busy": "2021-11-23T10:21:12.127477Z",
     "iopub.status.idle": "2021-11-23T10:21:12.368257Z",
     "shell.execute_reply": "2021-11-23T10:21:12.367353Z",
     "shell.execute_reply.started": "2021-11-23T10:21:12.128503Z"
    }
   },
   "outputs": [],
   "source": [
    "import matplotlib.pyplot as plt\n",
    "\n",
    "plt.scatter(x=y_test, y=y_pred)\n",
    "plt.show()"
   ]
  },
  {
   "cell_type": "code",
   "execution_count": null,
   "metadata": {
    "execution": {
     "iopub.execute_input": "2021-11-23T10:21:12.369880Z",
     "iopub.status.busy": "2021-11-23T10:21:12.369606Z",
     "iopub.status.idle": "2021-11-23T10:21:12.518636Z",
     "shell.execute_reply": "2021-11-23T10:21:12.517130Z",
     "shell.execute_reply.started": "2021-11-23T10:21:12.369849Z"
    }
   },
   "outputs": [],
   "source": [
    "from sklearn.ensemble import RandomForestRegressor\n",
    "rf= RandomForestRegressor(n_estimators=100,random_state=0)"
   ]
  },
  {
   "cell_type": "code",
   "execution_count": null,
   "metadata": {
    "execution": {
     "iopub.execute_input": "2021-11-23T10:21:12.522238Z",
     "iopub.status.busy": "2021-11-23T10:21:12.521848Z",
     "iopub.status.idle": "2021-11-23T10:21:13.015908Z",
     "shell.execute_reply": "2021-11-23T10:21:13.015012Z",
     "shell.execute_reply.started": "2021-11-23T10:21:12.522193Z"
    }
   },
   "outputs": [],
   "source": [
    "rf.fit(X_train, y_train)"
   ]
  },
  {
   "cell_type": "code",
   "execution_count": null,
   "metadata": {
    "execution": {
     "iopub.execute_input": "2021-11-23T10:21:13.017503Z",
     "iopub.status.busy": "2021-11-23T10:21:13.017245Z",
     "iopub.status.idle": "2021-11-23T10:21:13.039230Z",
     "shell.execute_reply": "2021-11-23T10:21:13.037914Z",
     "shell.execute_reply.started": "2021-11-23T10:21:13.017472Z"
    }
   },
   "outputs": [],
   "source": [
    "y_pred1=rf.predict(X_test)"
   ]
  },
  {
   "cell_type": "code",
   "execution_count": null,
   "metadata": {
    "execution": {
     "iopub.execute_input": "2021-11-23T10:21:13.042004Z",
     "iopub.status.busy": "2021-11-23T10:21:13.041115Z",
     "iopub.status.idle": "2021-11-23T10:21:13.052301Z",
     "shell.execute_reply": "2021-11-23T10:21:13.051172Z",
     "shell.execute_reply.started": "2021-11-23T10:21:13.041949Z"
    }
   },
   "outputs": [],
   "source": [
    "y_pred1"
   ]
  },
  {
   "cell_type": "code",
   "execution_count": null,
   "metadata": {
    "execution": {
     "iopub.execute_input": "2021-11-23T10:21:27.482324Z",
     "iopub.status.busy": "2021-11-23T10:21:27.482040Z",
     "iopub.status.idle": "2021-11-23T10:21:27.489574Z",
     "shell.execute_reply": "2021-11-23T10:21:27.488652Z",
     "shell.execute_reply.started": "2021-11-23T10:21:27.482294Z"
    }
   },
   "outputs": [],
   "source": [
    "# BEST RESULT\n",
    "r2_score(y_test,y_pred1) "
   ]
  },
  {
   "cell_type": "code",
   "execution_count": null,
   "metadata": {
    "execution": {
     "iopub.execute_input": "2021-11-23T10:21:13.071464Z",
     "iopub.status.busy": "2021-11-23T10:21:13.070701Z",
     "iopub.status.idle": "2021-11-23T10:21:13.311209Z",
     "shell.execute_reply": "2021-11-23T10:21:13.310094Z",
     "shell.execute_reply.started": "2021-11-23T10:21:13.071414Z"
    }
   },
   "outputs": [],
   "source": [
    "plt.scatter(x=y_test, y=y_pred1)\n",
    "plt.show()"
   ]
  },
  {
   "cell_type": "code",
   "execution_count": null,
   "metadata": {
    "execution": {
     "iopub.execute_input": "2021-11-23T10:21:13.313759Z",
     "iopub.status.busy": "2021-11-23T10:21:13.313186Z",
     "iopub.status.idle": "2021-11-23T10:21:13.320910Z",
     "shell.execute_reply": "2021-11-23T10:21:13.319880Z",
     "shell.execute_reply.started": "2021-11-23T10:21:13.313705Z"
    }
   },
   "outputs": [],
   "source": [
    "from sklearn.ensemble import GradientBoostingRegressor\n",
    "GB = GradientBoostingRegressor(loss='ls',n_estimators=800,subsample=0.1,criterion='mse',max_features='auto',min_samples_leaf=5, min_samples_split=4, max_leaf_nodes=40, learning_rate=0.05, max_depth=20, random_state=2, n_iter_no_change=5)"
   ]
  },
  {
   "cell_type": "code",
   "execution_count": null,
   "metadata": {
    "execution": {
     "iopub.execute_input": "2021-11-23T10:21:13.323616Z",
     "iopub.status.busy": "2021-11-23T10:21:13.322995Z",
     "iopub.status.idle": "2021-11-23T10:21:13.404905Z",
     "shell.execute_reply": "2021-11-23T10:21:13.403960Z",
     "shell.execute_reply.started": "2021-11-23T10:21:13.323566Z"
    }
   },
   "outputs": [],
   "source": [
    "GB.fit(X_train, y_train)\n",
    "y_pred3 = GB.predict(X_test)\n",
    "r2_score(y_test,y_pred3)"
   ]
  },
  {
   "cell_type": "code",
   "execution_count": null,
   "metadata": {},
   "outputs": [],
   "source": []
  }
 ],
 "metadata": {
  "kernelspec": {
   "display_name": "Python 3",
   "language": "python",
   "name": "python3"
  },
  "language_info": {
   "codemirror_mode": {
    "name": "ipython",
    "version": 3
   },
   "file_extension": ".py",
   "mimetype": "text/x-python",
   "name": "python",
   "nbconvert_exporter": "python",
   "pygments_lexer": "ipython3",
   "version": "3.8.1"
  }
 },
 "nbformat": 4,
 "nbformat_minor": 4
}
